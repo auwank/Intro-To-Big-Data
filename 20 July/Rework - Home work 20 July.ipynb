{
 "cells": [
  {
   "cell_type": "markdown",
   "metadata": {},
   "source": [
    "BASIC EXERCISE #1"
   ]
  },
  {
   "cell_type": "code",
   "execution_count": null,
   "metadata": {},
   "outputs": [],
   "source": [
    "type (1)"
   ]
  },
  {
   "cell_type": "code",
   "execution_count": null,
   "metadata": {},
   "outputs": [],
   "source": [
    "type(3.14)"
   ]
  },
  {
   "cell_type": "code",
   "execution_count": null,
   "metadata": {},
   "outputs": [],
   "source": [
    "type (\"Big Data!\")"
   ]
  },
  {
   "cell_type": "code",
   "execution_count": null,
   "metadata": {},
   "outputs": [],
   "source": [
    "type('Big Data!')"
   ]
  },
  {
   "cell_type": "code",
   "execution_count": null,
   "metadata": {},
   "outputs": [],
   "source": [
    "type (True)"
   ]
  },
  {
   "cell_type": "code",
   "execution_count": null,
   "metadata": {},
   "outputs": [],
   "source": [
    "type (False)"
   ]
  },
  {
   "cell_type": "code",
   "execution_count": null,
   "metadata": {},
   "outputs": [],
   "source": [
    "type ([1,2,\"intruder\",3])"
   ]
  },
  {
   "cell_type": "markdown",
   "metadata": {},
   "source": [
    "Basic Exercise #2"
   ]
  },
  {
   "cell_type": "code",
   "execution_count": 102,
   "metadata": {},
   "outputs": [
    {
     "name": "stdout",
     "output_type": "stream",
     "text": [
      "1\n",
      "2\n",
      "Fizz\n",
      "4\n",
      "Buzz\n",
      "Fizz\n",
      "7\n",
      "8\n",
      "Fizz\n",
      "Buzz\n",
      "11\n",
      "Fizz\n",
      "13\n",
      "14\n",
      "FizzBuzz\n",
      "16\n",
      "17\n",
      "Fizz\n",
      "19\n",
      "Buzz\n",
      "Fizz\n",
      "22\n",
      "23\n",
      "Fizz\n",
      "Buzz\n",
      "26\n",
      "Fizz\n",
      "28\n",
      "29\n",
      "FizzBuzz\n",
      "31\n",
      "32\n",
      "Fizz\n",
      "34\n",
      "Buzz\n",
      "Fizz\n",
      "37\n",
      "38\n",
      "Fizz\n",
      "Buzz\n",
      "41\n",
      "Fizz\n",
      "43\n",
      "44\n",
      "FizzBuzz\n",
      "46\n",
      "47\n",
      "Fizz\n",
      "49\n",
      "Buzz\n",
      "Fizz\n",
      "52\n",
      "53\n",
      "Fizz\n",
      "Buzz\n",
      "56\n",
      "Fizz\n",
      "58\n",
      "59\n",
      "FizzBuzz\n",
      "61\n",
      "62\n",
      "Fizz\n",
      "64\n",
      "Buzz\n",
      "Fizz\n",
      "67\n",
      "68\n",
      "Fizz\n",
      "Buzz\n",
      "71\n",
      "Fizz\n",
      "73\n",
      "74\n",
      "FizzBuzz\n",
      "76\n",
      "77\n",
      "Fizz\n",
      "79\n",
      "Buzz\n",
      "Fizz\n",
      "82\n",
      "83\n",
      "Fizz\n",
      "Buzz\n",
      "86\n",
      "Fizz\n",
      "88\n",
      "89\n",
      "FizzBuzz\n",
      "91\n",
      "92\n",
      "Fizz\n",
      "94\n",
      "Buzz\n",
      "Fizz\n",
      "97\n",
      "98\n",
      "Fizz\n",
      "Buzz\n"
     ]
    }
   ],
   "source": [
    "# Write a script that prints the integers from 1 to 100. For multiples of three print \"Fizz\" instead\n",
    "#  and for the multiples of five print \"Buzz\". For numbers which are multiples of both print \"FizzBuzz\"\n",
    "\n",
    "lst = list (range(1,101))\n",
    "\n",
    "for i in range(0,len(lst)):\n",
    "    if lst[i]%3==0 and lst[i]%5==0:\n",
    "        print('FizzBuzz')\n",
    "    elif lst[i]%3==0:\n",
    "        print('Fizz')\n",
    "    elif lst[i]%5==0:\n",
    "        print('Buzz')\n",
    "    else:\n",
    "        print(lst[i])"
   ]
  },
  {
   "cell_type": "code",
   "execution_count": null,
   "metadata": {},
   "outputs": [],
   "source": []
  },
  {
   "cell_type": "markdown",
   "metadata": {},
   "source": [
    "Basic Exercise #3"
   ]
  },
  {
   "cell_type": "code",
   "execution_count": 103,
   "metadata": {},
   "outputs": [
    {
     "name": "stdout",
     "output_type": "stream",
     "text": [
      "Maximum integer value in 'lst' is 999\n",
      "Minimum integer value in 'lst' is 1\n",
      "Sum of multiples of 3 or 5 below 1000 is: 233168\n"
     ]
    }
   ],
   "source": [
    "# Could you find the maximum or minimum integer value in a list. If we list all the natural\n",
    "# numbers below 10 that are multiples of 3 or 5, we get 3, 5, 6 and 9. The sum of these\n",
    "# multiples is 23. Find the sum of all the multiples of 3 or 5 below 1000.\n",
    "\n",
    "lst = list (range(1,1000))\n",
    "\n",
    "print(f\"Maximum integer value in 'lst' is {max(lst)}\")\n",
    "print(f\"Minimum integer value in 'lst' is {min(lst)}\")\n",
    "\n",
    "sm = 0\n",
    "\n",
    "for i in range(0,len(lst)):\n",
    "    if lst[i]%3==0 or lst[i]%5==0:\n",
    "        sm = sm+ lst[i]\n",
    "        \n",
    "print (f\"Sum of multiples of 3 or 5 below 1000 is: {sm}\")\n"
   ]
  },
  {
   "cell_type": "code",
   "execution_count": null,
   "metadata": {},
   "outputs": [],
   "source": []
  },
  {
   "cell_type": "markdown",
   "metadata": {},
   "source": [
    "Basic Exercise #4"
   ]
  },
  {
   "cell_type": "code",
   "execution_count": 104,
   "metadata": {},
   "outputs": [
    {
     "name": "stdout",
     "output_type": "stream",
     "text": [
      "Enter the string to take out all the vowels: Leonardo DiCaprio\n",
      "The string without vowels is: Lnrd DCpr\n"
     ]
    }
   ],
   "source": [
    "#Write a script that takes out all the vowels and response with shortened version the string.\n",
    "#Your script should not be case sensitive.\n",
    "\n",
    "str = input(\"Enter the string to take out all the vowels: \")\n",
    "str2 = ''\n",
    "\n",
    "for i in str:\n",
    "    if i not in 'a,e,i,o,u,A,E,I,O,U':\n",
    "        str2=str2+i\n",
    "        \n",
    "print (f\"The string without vowels is: {str2}\")\n"
   ]
  },
  {
   "cell_type": "code",
   "execution_count": null,
   "metadata": {},
   "outputs": [],
   "source": []
  },
  {
   "cell_type": "markdown",
   "metadata": {},
   "source": [
    "Advanced Exercise #1"
   ]
  },
  {
   "cell_type": "code",
   "execution_count": 1,
   "metadata": {},
   "outputs": [
    {
     "name": "stdout",
     "output_type": "stream",
     "text": [
      "Enter the string to count the characters:\n",
      "Leonardo Dicaprio\n",
      "The number of charaters sorted by alphabetical order is:\n",
      "{'a': 2, 'c': 1, 'd': 2, 'e': 1, 'i': 2, 'l': 1, 'n': 1, 'o': 3, 'p': 1, 'r': 2}\n",
      "The number of charaters sorted by repetition of characters in descending order is:\n",
      "[('o', 3), ('a', 2), ('d', 2), ('i', 2), ('r', 2), ('c', 1), ('e', 1), ('l', 1), ('n', 1), ('p', 1)]\n"
     ]
    }
   ],
   "source": [
    "# Write a Python program to count the number of characters (character frequency) in a string.\n",
    "\n",
    "import operator\n",
    "import collections\n",
    "\n",
    "str = input(\"Enter the string to count the characters:\\n\")\n",
    "str2  = str.lower()\n",
    "d = {}\n",
    "\n",
    "for i in sorted(str2):\n",
    "    if i != ' ':\n",
    "        d[i] = str2.count(i)\n",
    "        sorted_d = sorted (d.items(), key=operator.itemgetter(1),reverse = True)\n",
    "\n",
    "print (f\"The number of charaters sorted by alphabetical order is:\\n{d}\")\n",
    "print (f\"The number of charaters sorted by repetition of characters in descending order is:\\n{sorted_d}\")\n",
    "    \n"
   ]
  },
  {
   "cell_type": "code",
   "execution_count": null,
   "metadata": {},
   "outputs": [],
   "source": []
  },
  {
   "cell_type": "code",
   "execution_count": null,
   "metadata": {},
   "outputs": [],
   "source": []
  },
  {
   "cell_type": "markdown",
   "metadata": {},
   "source": [
    "Advanced Exercise #2"
   ]
  },
  {
   "cell_type": "code",
   "execution_count": 4,
   "metadata": {},
   "outputs": [
    {
     "name": "stdout",
     "output_type": "stream",
     "text": [
      "Enter a sentence to count the number of words:\n",
      "Enter a sentence to count the number of words to count the number\n",
      "Count for \"enter\" is 1\n",
      "Count for \"a\" is 1\n",
      "Count for \"sentence\" is 1\n",
      "Count for \"to\" is 2\n",
      "Count for \"count\" is 2\n",
      "Count for \"the\" is 2\n",
      "Count for \"number\" is 2\n",
      "Count for \"of\" is 1\n",
      "Count for \"words\" is 1\n",
      "The count of the number of words in dictionary format is as follows:\n",
      "{'enter': 1, 'a': 1, 'sentence': 1, 'to': 2, 'count': 2, 'the': 2, 'number': 2, 'of': 1, 'words': 1}\n"
     ]
    }
   ],
   "source": [
    "#Write a Python program to count the occurrences of each word in a given sentence.\n",
    "\n",
    "\n",
    "str = input(\"Enter a sentence to count the number of words:\\n\")\n",
    "str2  = str.lower()\n",
    "lst = str2.split()\n",
    "d = {}\n",
    "\n",
    "for i in lst:\n",
    "    if i not in d.keys():\n",
    "        d[i] = str2.count(i)\n",
    "        print(f'Count for \"{i}\" is {d[i]}')\n",
    "    \n",
    "print (f\"The count of the number of words in dictionary format is as follows:\\n{d}\")\n"
   ]
  },
  {
   "cell_type": "code",
   "execution_count": null,
   "metadata": {},
   "outputs": [],
   "source": []
  },
  {
   "cell_type": "markdown",
   "metadata": {},
   "source": [
    "Advanced Exercise #3"
   ]
  },
  {
   "cell_type": "code",
   "execution_count": null,
   "metadata": {},
   "outputs": [],
   "source": [
    "# Write a Python program that accepts a comma separated sequence of words as input and\n",
    "# prints the unique words in sorted form (alphanumerically)\n"
   ]
  },
  {
   "cell_type": "code",
   "execution_count": 92,
   "metadata": {},
   "outputs": [
    {
     "name": "stdout",
     "output_type": "stream",
     "text": [
      "Enter a comma separated sequence of words to print the unique words in sorted form : \n",
      "a,ab,a,ac\n",
      "The unique words in sorted form (alphanumerically) are ['a', 'ab', 'ac']\n"
     ]
    }
   ],
   "source": [
    "str = input(\"Enter a comma separated sequence of words to print the unique words in sorted form : \\n\")\n",
    "lst = str.split(',')\n",
    "\n",
    "lst2 = list(set (lst))\n",
    "lst2.sort()\n",
    "\n",
    "print(f\"The unique words in sorted form (alphanumerically) are {lst2}\")"
   ]
  },
  {
   "cell_type": "code",
   "execution_count": null,
   "metadata": {},
   "outputs": [],
   "source": []
  },
  {
   "cell_type": "code",
   "execution_count": null,
   "metadata": {},
   "outputs": [],
   "source": []
  },
  {
   "cell_type": "markdown",
   "metadata": {},
   "source": [
    "Reach Exercise #1"
   ]
  },
  {
   "cell_type": "code",
   "execution_count": 101,
   "metadata": {},
   "outputs": [
    {
     "name": "stdout",
     "output_type": "stream",
     "text": [
      "List 1: \n",
      "[1, 3, 5, 7, 9, 11, 13, 15, 17, 19, 21, 23]\n",
      "List 2: \n",
      "[1, 4, 7, 10, 13, 16, 19]\n",
      "Combined & sorted list ignoring duplicate values: \n",
      "[1, 3, 4, 5, 7, 9, 10, 11, 13, 15, 16, 17, 19, 21, 23]\n"
     ]
    }
   ],
   "source": [
    "# Write a program that reads two lists of numbers (4 items minimum) and merge them by\n",
    "# sorting them out ignoring duplicates\n",
    "\n",
    "lst1 = list(range(1,25,2))\n",
    "lst2 = list(range(1,20,3))\n",
    "lst3 = lst1+lst2\n",
    "lst4 = list (set(lst3))\n",
    "lst4.sort()\n",
    "\n",
    "print (f\"List 1: \\n{lst1}\")\n",
    "print (f\"List 2: \\n{lst2}\")\n",
    "print (f\"Combined & sorted list ignoring duplicate values: \\n{lst4}\")\n"
   ]
  },
  {
   "cell_type": "code",
   "execution_count": null,
   "metadata": {},
   "outputs": [],
   "source": []
  },
  {
   "cell_type": "code",
   "execution_count": null,
   "metadata": {},
   "outputs": [],
   "source": [
    "REACH EXERCISE #2 - Not completed"
   ]
  },
  {
   "cell_type": "code",
   "execution_count": null,
   "metadata": {},
   "outputs": [],
   "source": [
    "x=3\n",
    "y = 9\n",
    "count=1\n",
    "int = len(lst)\n",
    "a=False\n",
    "b=False\n",
    "\n",
    "for i in range(x,y-x):\n",
    "    for j in range(0, 3):\n",
    "        a= i%lst[j]==0 \n",
    "        a = a or a\n",
    "    for j in range(0, 3):\n",
    "        b= (y-i)%lst[j]==0 \n",
    "        b = b or b\n",
    "    if a and b == True:\n",
    "        break\n",
    "    print (y)"
   ]
  },
  {
   "cell_type": "code",
   "execution_count": null,
   "metadata": {},
   "outputs": [],
   "source": []
  },
  {
   "cell_type": "code",
   "execution_count": null,
   "metadata": {},
   "outputs": [],
   "source": []
  }
 ],
 "metadata": {
  "kernelspec": {
   "display_name": "Python 3",
   "language": "python",
   "name": "python3"
  },
  "language_info": {
   "codemirror_mode": {
    "name": "ipython",
    "version": 3
   },
   "file_extension": ".py",
   "mimetype": "text/x-python",
   "name": "python",
   "nbconvert_exporter": "python",
   "pygments_lexer": "ipython3",
   "version": "3.7.3"
  }
 },
 "nbformat": 4,
 "nbformat_minor": 2
}
