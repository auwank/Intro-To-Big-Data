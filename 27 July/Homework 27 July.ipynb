{
 "cells": [
  {
   "cell_type": "markdown",
   "metadata": {},
   "source": [
    "Basic #1"
   ]
  },
  {
   "cell_type": "code",
   "execution_count": null,
   "metadata": {},
   "outputs": [],
   "source": [
    "#Write a program (function!) that takes a list and returns a new list that contains all the\n",
    "#elements of the first list minus all the duplicates\n",
    "\n",
    "def dupl():\n",
    "    lst = []\n",
    "    while True:                                                                      # loop to take user input for the list\n",
    "        lst.append(input(\"Enter the numbers in the list or enter 's' to stop: \"))\n",
    "        if lst[-1]=='s':\n",
    "            lst.pop()\n",
    "            break\n",
    "            \n",
    "    st = set(lst) # converting list to set to eliminate duplicates\n",
    "    lst2=list(st) # converting set back to a new list\n",
    "    lst2.sort()\n",
    "    \n",
    "    print(f\"\\nOriginal list is:\\n{lst}\")\n",
    "    print(f\"New list without the duplicates is:\\n{lst2}\")\n",
    "    "
   ]
  },
  {
   "cell_type": "code",
   "execution_count": null,
   "metadata": {
    "scrolled": true
   },
   "outputs": [],
   "source": [
    "dupl()"
   ]
  },
  {
   "cell_type": "code",
   "execution_count": null,
   "metadata": {},
   "outputs": [],
   "source": []
  },
  {
   "cell_type": "markdown",
   "metadata": {},
   "source": [
    "Basic #1 (Improved)"
   ]
  },
  {
   "cell_type": "code",
   "execution_count": null,
   "metadata": {},
   "outputs": [],
   "source": [
    "# Improvement to code\n",
    "#Write a program (function!) that takes a list and returns a new list that contains all the\n",
    "#elements of the first list minus all the duplicates\n",
    "\n",
    "def dupl_2():\n",
    "    lst = list(range(1,20,2)) + list(range(1,20,3))  # Creating list with duplicates\n",
    "    lst2 = list(set(lst))                           # Converting list to a set & back to a new list to eliminate duplicates\n",
    "    \n",
    "    print(f\"Original list is:\\n{lst}\")\n",
    "    print(f\"New list without the duplicates is:\\n{lst2}\")\n",
    "    "
   ]
  },
  {
   "cell_type": "code",
   "execution_count": null,
   "metadata": {},
   "outputs": [],
   "source": [
    "dupl_2()"
   ]
  },
  {
   "cell_type": "code",
   "execution_count": null,
   "metadata": {},
   "outputs": [],
   "source": []
  },
  {
   "cell_type": "markdown",
   "metadata": {},
   "source": [
    "Basic #2"
   ]
  },
  {
   "cell_type": "code",
   "execution_count": 6,
   "metadata": {},
   "outputs": [],
   "source": [
    "# Write a function that takes an ordered list of numbers (a list where the elements are in\n",
    "# order from smallest to largest) and another number. The function decides whether or not\n",
    "# the given number is inside the list and returns (then prints) an appropriate boolean.\n",
    "\n",
    "\n",
    "def num_chk():\n",
    "    lst = []\n",
    "    \n",
    "    while True:                                                                   # Loop to take list input from user\n",
    "        lst.append(input(\"Enter the numbers in the list or enter 's' to stop: \"))\n",
    "        if lst[-1]=='s':\n",
    "            lst.pop()\n",
    "            break\n",
    "            \n",
    "    print(f\"\\nEntered list is:\\n{lst}\\n\")\n",
    "    \n",
    "    while True:                                                         # Loop to check if given number is in the entered list\n",
    "        x = input (\"Enter the number to see if its in the list or 's' to stop: \")\n",
    "        if x == 's':\n",
    "            break\n",
    "        if x in lst:\n",
    "            print (\"True\")\n",
    "        else:\n",
    "            print (\"False\")       \n",
    "            "
   ]
  },
  {
   "cell_type": "code",
   "execution_count": 7,
   "metadata": {},
   "outputs": [
    {
     "name": "stdout",
     "output_type": "stream",
     "text": [
      "Enter the numbers in the list or enter 's' to stop: 1\n",
      "Enter the numbers in the list or enter 's' to stop: 2\n",
      "Enter the numbers in the list or enter 's' to stop: s\n",
      "\n",
      "Entered list is:\n",
      "['1', '2']\n",
      "\n",
      "Enter the number to see if its in the list or 's' to stop: 1\n",
      "True\n",
      "Enter the number to see if its in the list or 's' to stop: 4\n",
      "False\n",
      "Enter the number to see if its in the list or 's' to stop: s\n"
     ]
    }
   ],
   "source": [
    "num_chk()"
   ]
  },
  {
   "cell_type": "markdown",
   "metadata": {},
   "source": [
    "Basic #3"
   ]
  },
  {
   "cell_type": "code",
   "execution_count": 3,
   "metadata": {},
   "outputs": [
    {
     "data": {
      "text/plain": [
       "[4, 16, 36, 64, 100]"
      ]
     },
     "execution_count": 3,
     "metadata": {},
     "output_type": "execute_result"
    }
   ],
   "source": [
    "a = [1, 4, 9, 16, 25, 36, 49, 64, 81, 100]      # Given list\n",
    "\n",
    "lst = list(filter(lambda x:x%2==0,a))           #Lambda function to return only even numbers from the list\n",
    "lst"
   ]
  },
  {
   "cell_type": "code",
   "execution_count": null,
   "metadata": {},
   "outputs": [],
   "source": []
  },
  {
   "cell_type": "markdown",
   "metadata": {},
   "source": [
    "Advanced #1"
   ]
  },
  {
   "cell_type": "code",
   "execution_count": 12,
   "metadata": {},
   "outputs": [],
   "source": [
    "# Guess a random number between 0 and 200\n",
    "\n",
    "import random\n",
    "def guess():\n",
    "    x = random.randint(0,200)        # Choosing random number to guess\n",
    "    count =0\n",
    "\n",
    "    while True:                    # Main loop to take repeated guess from user\n",
    "        y = int(input (\"Guess the number between 0 to 200: \"))\n",
    "        count = count+1   \n",
    "        \n",
    "        if x == y:\n",
    "            print (f\"Bingo! You guessed the number {x} correctly in {count} counts\")\n",
    "            break\n",
    "\n",
    "# Steps for guessing are: 100, 30, 10, 3 & 2. Each step return a particular message. The steps become smaller & smaller \n",
    "# as user approach closer to number, helping user to guess the number precisely & quickly.\n",
    "            \n",
    "        elif (abs(x-y) >100):       # If difference greater than 100; \n",
    "            if x<y:\n",
    "                print (\"You guessed way upper, Please guess again: \")\n",
    "            else:\n",
    "                print (\"You guessed way lower, Please guess again: \")\n",
    "                \n",
    "        elif (abs(x-y) >30):       # If difference greater than 30.\n",
    "            if x<y:\n",
    "                print (\"You guessed upper, Please guess again: \")\n",
    "            else:\n",
    "                print (\"You guessed lower, Please guess again: \")\n",
    "                \n",
    "        elif (abs(x-y) >10):    # If difference greater than 10\n",
    "            if x<y:\n",
    "                print (\"You guessed a just a little higher, Please guess again: \")\n",
    "            else:\n",
    "                print (\"You guessed a just a little lower, Please guess again: \")\n",
    "                \n",
    "        elif (abs(x-y) >=3):    # If difference greater than or equal to 3\n",
    "            if x<y:\n",
    "                print (\"Almost there, reduce the number & guess again: \")\n",
    "            else:\n",
    "                print (\"Almost there, increase the number & guess again:  \")\n",
    "                \n",
    "        elif (abs(x-y) <= 2):   # If difference less than or equal to 2\n",
    "            print (\"You guessed within 2 numbers! Please guess again: \")\n",
    "        else:\n",
    "            continue\n",
    "            "
   ]
  },
  {
   "cell_type": "code",
   "execution_count": 13,
   "metadata": {},
   "outputs": [
    {
     "name": "stdout",
     "output_type": "stream",
     "text": [
      "Guess the number between 0 to 200: 100\n",
      "You guessed upper, Please guess again: \n",
      "Guess the number between 0 to 200: 70\n",
      "Almost there, reduce the number & guess again: \n",
      "Guess the number between 0 to 200: 55\n",
      "Almost there, increase the number & guess again:  \n",
      "Guess the number between 0 to 200: 60\n",
      "Almost there, increase the number & guess again:  \n",
      "Guess the number between 0 to 200: 65\n",
      "Bingo! You guessed the number 65 correctly in 5 counts\n"
     ]
    }
   ],
   "source": [
    "guess()"
   ]
  },
  {
   "cell_type": "code",
   "execution_count": null,
   "metadata": {},
   "outputs": [],
   "source": []
  },
  {
   "cell_type": "markdown",
   "metadata": {},
   "source": [
    "Advanced #2"
   ]
  },
  {
   "cell_type": "code",
   "execution_count": 30,
   "metadata": {},
   "outputs": [],
   "source": [
    "# Guide the program to a random number between 0 and 200.\n",
    "\n",
    "def guess_func():\n",
    "    count =1\n",
    "    x = 100        # Initial Guess by code\n",
    "    \n",
    "    print(\"Please choose a random number between 0 & 200 (0 & 200 included)\\n\")\n",
    "\n",
    "    while True:                 # Main loop to take repeated inputs from user\n",
    "        opt  = input(f\"Is the number {x}? Enter y for yes; 2 if diff is >= 50; 3 if diff >= 20, 4 if diff >= 10, 5 if diff >= 5, 6 if diff >= 2, 7 if diff >= 1:\\n\")\n",
    "        \n",
    "        if opt == 'y':\n",
    "            print(f\"Bingo!,The number is {x} & i guessed correctly in {count} turns\")\n",
    "            break\n",
    "            \n",
    "        option = int(opt)\n",
    "        \n",
    "# Code uses following steps for guessing the number: 50, 20, 10, 5, 2 & 1.\n",
    "\n",
    "        if option ==2:\n",
    "            a = input (f\"Is {x} greater than your number. Enter y or n: \")\n",
    "            if a=='y':\n",
    "                x=x-50\n",
    "            else:\n",
    "                x=x+50\n",
    "                \n",
    "        if option ==3:\n",
    "            a = input (f\"Is {x} greater than your number. Enter y or n: \")\n",
    "            if a=='y':\n",
    "                x=x-20\n",
    "            else:\n",
    "                x=x+20\n",
    "                \n",
    "        if option ==4:\n",
    "            a = input (f\"Is {x} greater than your number. Enter y or n: \")\n",
    "            if a=='y':\n",
    "                x=x-10\n",
    "            else:\n",
    "                x=x+10\n",
    "        if option ==5:\n",
    "            a = input (f\"Is {x} greater than your number. Enter y or n: \")\n",
    "            if a=='y':\n",
    "                x=x-5\n",
    "            else:\n",
    "                x=x+5\n",
    "                \n",
    "        if option ==6:\n",
    "            a = input (f\"Is {x} greater than your number. Enter y or n: \")\n",
    "            if a=='y':\n",
    "                x=x-2\n",
    "            else:\n",
    "                x=x+2\n",
    "                \n",
    "        if option ==7:\n",
    "            a = input (f\"Is {x} greater than your number. Enter y or n: \")\n",
    "            if a=='y':\n",
    "                x=x-1\n",
    "            else:\n",
    "                x=x+1\n",
    "\n",
    "        print (x)\n",
    "        count=count+1\n",
    "        \n"
   ]
  },
  {
   "cell_type": "code",
   "execution_count": 32,
   "metadata": {},
   "outputs": [
    {
     "name": "stdout",
     "output_type": "stream",
     "text": [
      "Please choose a random number between 0 & 200 (0 & 200 included)\n",
      "\n",
      "Is the number 100? Enter y for yes; 2 if diff is >= 50; 3 if diff >= 20, 4 if diff >= 10, 5 if diff >= 5, 6 if diff >= 2, 7 if diff >= 1:\n",
      "2\n",
      "Is 100 greater than your number. Enter y or n: y\n",
      "50\n",
      "Is the number 50? Enter y for yes; 2 if diff is >= 50; 3 if diff >= 20, 4 if diff >= 10, 5 if diff >= 5, 6 if diff >= 2, 7 if diff >= 1:\n",
      "6\n",
      "Is 50 greater than your number. Enter y or n: y\n",
      "48\n",
      "Is the number 48? Enter y for yes; 2 if diff is >= 50; 3 if diff >= 20, 4 if diff >= 10, 5 if diff >= 5, 6 if diff >= 2, 7 if diff >= 1:\n",
      "7\n",
      "Is 48 greater than your number. Enter y or n: y\n",
      "47\n",
      "Is the number 47? Enter y for yes; 2 if diff is >= 50; 3 if diff >= 20, 4 if diff >= 10, 5 if diff >= 5, 6 if diff >= 2, 7 if diff >= 1:\n",
      "y\n",
      "Bingo!,The number is 47 & i guessed correctly in 4 turns\n"
     ]
    }
   ],
   "source": [
    "guess_func()"
   ]
  },
  {
   "cell_type": "code",
   "execution_count": null,
   "metadata": {},
   "outputs": [],
   "source": []
  },
  {
   "cell_type": "markdown",
   "metadata": {},
   "source": [
    "Advanced #3"
   ]
  },
  {
   "cell_type": "code",
   "execution_count": 33,
   "metadata": {},
   "outputs": [],
   "source": [
    "# Guess a random number between 0 and 200. The function can tell you the number is even/odd and/or divisible by 3\n",
    "\n",
    "import random\n",
    "def guess_2():\n",
    "    x = random.randint(0,200)\n",
    "    count =0\n",
    "  \n",
    "    while True:\n",
    "        \n",
    "        if count > 2:   # After 2nd guess, tells the user if the number is divisible by 2 & 3 or not, to help user guess better\n",
    "            if x%2 == 0:\n",
    "                if x%3 ==0:\n",
    "                    print(\"Please keep in mind that the number is even & divible by 3.\")\n",
    "                else:\n",
    "                    print(\"Please keep in mind that the number is even & NOT divible by 3.\")\n",
    "            else:\n",
    "                print(\"Please keep in mind that the number is odd & NOT divible by 3.\")\n",
    "                \n",
    "        y = int(input (\"Guess the number between 0 to 200: \"))\n",
    "        count = count+1\n",
    "        \n",
    "        if x == y:\n",
    "            print (f\"Bingo! You guessed the number {x} correctly in {count} counts\")\n",
    "            break\n",
    "            \n",
    "        elif (abs(x-y) >100):\n",
    "            if x<y:\n",
    "                print (\"You guessed way upper, Please guess again: \")\n",
    "            else:\n",
    "                print (\"You guessed way lower, Please guess again: \")\n",
    "                \n",
    "        elif (abs(x-y) >30):\n",
    "            if x<y:\n",
    "                print (\"You guessed upper, Please guess again: \")\n",
    "            else:\n",
    "                print (\"You guessed lower, Please guess again: \")\n",
    "                \n",
    "        elif (abs(x-y) >10):\n",
    "            if x<y:\n",
    "                print (\"You guessed a just a little higher, Please guess again: \")\n",
    "            else:\n",
    "                print (\"You guessed a just a little lower, Please guess again: \")\n",
    "                \n",
    "        elif (abs(x-y) >=3):\n",
    "            if x<y:\n",
    "                print (\"Almost there, reduce the number & guess again: \")\n",
    "            else:\n",
    "                print (\"Almost there, increase the number & guess again:  \")\n",
    "                \n",
    "        elif (abs(x-y) <= 2):\n",
    "            print (\"You guessed within 2 numbers! Please guess again: \")\n",
    "        else:\n",
    "            continue"
   ]
  },
  {
   "cell_type": "code",
   "execution_count": 34,
   "metadata": {},
   "outputs": [
    {
     "name": "stdout",
     "output_type": "stream",
     "text": [
      "Guess the number between 0 to 200: 100\n",
      "You guessed a just a little higher, Please guess again: \n",
      "Guess the number between 0 to 200: 80\n",
      "Almost there, reduce the number & guess again: \n",
      "Guess the number between 0 to 200: 70\n",
      "Almost there, increase the number & guess again:  \n",
      "Please keep in mind that the number is even & NOT divible by 3.\n",
      "Guess the number between 0 to 200: 74\n",
      "You guessed within 2 numbers! Please guess again: \n",
      "Please keep in mind that the number is even & NOT divible by 3.\n",
      "Guess the number between 0 to 200: 76\n",
      "Bingo! You guessed the number 76 correctly in 5 counts\n"
     ]
    }
   ],
   "source": [
    "guess_2()"
   ]
  },
  {
   "cell_type": "code",
   "execution_count": null,
   "metadata": {},
   "outputs": [],
   "source": []
  },
  {
   "cell_type": "code",
   "execution_count": null,
   "metadata": {},
   "outputs": [],
   "source": []
  },
  {
   "cell_type": "markdown",
   "metadata": {},
   "source": [
    "Advanced #4"
   ]
  },
  {
   "cell_type": "code",
   "execution_count": 44,
   "metadata": {},
   "outputs": [],
   "source": [
    "# Guide the program to a random number between 0 and 200. Tell the program if the number is even or odd & if number is \n",
    "# divisible by 3 for the program to guess the number quickly\n",
    "\n",
    "def guess_func2():\n",
    "    \n",
    "    count =1\n",
    "    x = 100       # Initial Guess by code\n",
    "    p2 = ' '      # Variable to store if number is even or odd\n",
    "    p3= ' '       # Variable to store if number is divisible by 3 or not\n",
    "    \n",
    "    print(\"Please choose a random number between 0 & 200 (0 & 200 included)\\n\")\n",
    "    \n",
    "    while True:\n",
    "               \n",
    "        opt  = input(f\"Is the number {x}? Enter y for yes; 2 if diff is >= 50; 3 if diff >= 20, 4 if diff >= 10, 5 if diff > 2, 6 if diff <= 2: \")       \n",
    "        \n",
    "        if opt == 'y':\n",
    "            print(f\"Bingo!,The number is {x} & i guessed correctly in {count} turns\")\n",
    "            break\n",
    "            \n",
    "        if count ==1:  # Take odd/even & divible by 3 information from user.\n",
    "            p2 = input(\"Is the number even> y or n: \")\n",
    "            p3 = input (\"Is the number divisble by 3> y or n:\")\n",
    "            \n",
    "        option = int(opt)\n",
    "  \n",
    " # Code uses following steps for guessing the number: 50, 20, 10, 5 & 2.\n",
    "    \n",
    "        if option ==2:\n",
    "            a = input (f\"Is {x} greater than your number. Enter y or n: \")\n",
    "            if a=='y':\n",
    "                x=x-50\n",
    "            else:\n",
    "                x=x+50\n",
    "        if option ==3:\n",
    "            a = input (f\"Is {x} greater than your number. Enter y or n: \")\n",
    "            if a=='y':\n",
    "                x=x-20\n",
    "            else:\n",
    "                x=x+20\n",
    "        if option ==4:\n",
    "            a = input (f\"Is {x} greater than your number. Enter y or n: \")\n",
    "            if a=='y':\n",
    "                x=x-10\n",
    "            else:\n",
    "                x=x+10\n",
    "        if option ==5:\n",
    "            a = input (f\"Is {x} greater than your number. Enter y or n: \")\n",
    "            if a=='y':\n",
    "                x=x-5\n",
    "            else:\n",
    "                x=x+5\n",
    "    \n",
    "# Once the guess is within 2 number, knowing the odd/even & divisible by 3 information, the code can guess the correct number.\n",
    "# Eg: [8,9,10,11,12] Once we know the number is within 2 numbers from 10, we can guess exact number.\n",
    "# 8 is divisible by 2 & NOT 3; 9 is divisible by 3 only; 11 is NOT divisible by both; 12 is divisible by both\n",
    "    \n",
    "        if option ==6:\n",
    "            \n",
    "            if p2!= ' ':  \n",
    "                lst = list(range((x-2), (x+3)))\n",
    "                lst.remove(x)\n",
    "                \n",
    "                if p2=='y' and p3=='y':\n",
    "                    for z in range(0,len(lst)):\n",
    "                        if (lst[z]%2 == 0) and (lst[z]%3 == 0):\n",
    "                            x=lst[z]                            \n",
    "                            break          \n",
    "                            \n",
    "                if p2=='y' and p3=='n':\n",
    "                    for z in range(0,len(lst)):\n",
    "                        if (lst[z]%2 == 0) and (lst[z]%3 != 0):\n",
    "                            x=lst[z]                            \n",
    "                            break                            \n",
    "                            \n",
    "                if p2=='n' and p3=='y':\n",
    "                    for z in range(0,len(lst)):\n",
    "                        if (lst[z]%2 != 0) and (lst[z]%3 == 0):\n",
    "                            x=lst[z]                            \n",
    "                            break                            \n",
    "                            \n",
    "                if p2=='n' and p3=='n':\n",
    "                    for z in range(0,len(lst)):\n",
    "                        if (lst[z]%2 != 0) and (lst[z]%3 != 0):\n",
    "                            x=lst[z]                            \n",
    "                            break           \n",
    "\n",
    "            else:\n",
    "                a = input (f\"Is {x} greater than your number. Enter y or n: \")\n",
    "                if a=='y':\n",
    "                    x=x-2\n",
    "                else:\n",
    "                    x=x+2\n",
    "                    \n",
    "        count=count+1\n",
    "        "
   ]
  },
  {
   "cell_type": "code",
   "execution_count": 46,
   "metadata": {},
   "outputs": [
    {
     "name": "stdout",
     "output_type": "stream",
     "text": [
      "Please choose a random number between 0 & 200 (0 & 200 included)\n",
      "\n",
      "Is the number 100? Enter y for yes; 2 if diff is >= 50; 3 if diff >= 20, 4 if diff >= 10, 5 if diff > 2, 6 if diff <= 2: 6\n",
      "Is the number even> y or n: n\n",
      "Is the number divisble by 3> y or n:y\n",
      "Is the number 99? Enter y for yes; 2 if diff is >= 50; 3 if diff >= 20, 4 if diff >= 10, 5 if diff > 2, 6 if diff <= 2: y\n",
      "Bingo!,The number is 99 & i guessed correctly in 2 turns\n"
     ]
    }
   ],
   "source": [
    "guess_func2()"
   ]
  },
  {
   "cell_type": "code",
   "execution_count": null,
   "metadata": {},
   "outputs": [],
   "source": []
  },
  {
   "cell_type": "code",
   "execution_count": null,
   "metadata": {},
   "outputs": [],
   "source": []
  }
 ],
 "metadata": {
  "kernelspec": {
   "display_name": "Python 3",
   "language": "python",
   "name": "python3"
  },
  "language_info": {
   "codemirror_mode": {
    "name": "ipython",
    "version": 3
   },
   "file_extension": ".py",
   "mimetype": "text/x-python",
   "name": "python",
   "nbconvert_exporter": "python",
   "pygments_lexer": "ipython3",
   "version": "3.7.3"
  }
 },
 "nbformat": 4,
 "nbformat_minor": 2
}
